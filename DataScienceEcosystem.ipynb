{
  "metadata": {
    "kernelspec": {
      "name": "python",
      "display_name": "Python (Pyodide)",
      "language": "python"
    },
    "language_info": {
      "codemirror_mode": {
        "name": "python",
        "version": 3
      },
      "file_extension": ".py",
      "mimetype": "text/x-python",
      "name": "python",
      "nbconvert_exporter": "python",
      "pygments_lexer": "ipython3",
      "version": "3.8"
    }
  },
  "nbformat_minor": 5,
  "nbformat": 4,
  "cells": [
    {
      "id": "2b0674d9-f4fa-4f1d-a53b-d11bce2f3fe0",
      "cell_type": "markdown",
      "source": "# Data Science Tools and Ecosystem",
      "metadata": {}
    },
    {
      "id": "1bc608ca-f96b-4891-86ae-61961ccea674",
      "cell_type": "markdown",
      "source": "# In this notebook, Data Science Tools and Ecosystem are summarized.",
      "metadata": {}
    },
    {
      "id": "8a886286-230f-4bc5-a0f6-8059847973f0",
      "cell_type": "markdown",
      "source": "# Some of the popular languages that Data Scientists use are:\n# ordered list\n# Python\n# R\n# C++",
      "metadata": {}
    },
    {
      "id": "5bfa9ca6-a07d-4b08-b0db-f73f4adcf0db",
      "cell_type": "markdown",
      "source": "# Some of the commonly used libraries used by Data Scientists include:\n# ordered list\n# Pandas\n# Matplotlib\n# Scikit",
      "metadata": {}
    },
    {
      "id": "58d22d29-6f48-4a3f-a60d-9b15f113efeb",
      "cell_type": "code",
      "source": "import pandas as pd\n\n# Create a DataFrame with one column and three rows\ndata = {'Data Science Tools': ['Jupyter Notebook/JupyterLab', 'RStudio ', 'VSCode']}\ndf = pd.DataFrame(data)\n\n# Display the DataFrame\ndf\n",
      "metadata": {
        "trusted": true
      },
      "outputs": [
        {
          "execution_count": 6,
          "output_type": "execute_result",
          "data": {
            "text/plain": "            Data Science Tools\n0  Jupyter Notebook/JupyterLab\n1                     RStudio \n2                       VSCode",
            "text/html": "<div>\n<style scoped>\n    .dataframe tbody tr th:only-of-type {\n        vertical-align: middle;\n    }\n\n    .dataframe tbody tr th {\n        vertical-align: top;\n    }\n\n    .dataframe thead th {\n        text-align: right;\n    }\n</style>\n<table border=\"1\" class=\"dataframe\">\n  <thead>\n    <tr style=\"text-align: right;\">\n      <th></th>\n      <th>Data Science Tools</th>\n    </tr>\n  </thead>\n  <tbody>\n    <tr>\n      <th>0</th>\n      <td>Jupyter Notebook/JupyterLab</td>\n    </tr>\n    <tr>\n      <th>1</th>\n      <td>RStudio</td>\n    </tr>\n    <tr>\n      <th>2</th>\n      <td>VSCode</td>\n    </tr>\n  </tbody>\n</table>\n</div>"
          },
          "metadata": {}
        }
      ],
      "execution_count": 6
    },
    {
      "id": "c10f5e76-d472-45a7-9b29-f312532b2cfc",
      "cell_type": "markdown",
      "source": "# Below are a few examples of evaluating arithmetic expressions in Python",
      "metadata": {}
    },
    {
      "id": "5b7d4b70-ca25-4ae6-b8a3-a7e12e38a66a",
      "cell_type": "markdown",
      "source": "# This a simple arithmetic expression to mutiply then add integers.",
      "metadata": {}
    },
    {
      "id": "10a172bf-7139-4c73-98e4-acbb3318a3f9",
      "cell_type": "code",
      "source": "(3*4)+5",
      "metadata": {
        "trusted": true
      },
      "outputs": [
        {
          "execution_count": 7,
          "output_type": "execute_result",
          "data": {
            "text/plain": "17"
          },
          "metadata": {}
        }
      ],
      "execution_count": 7
    },
    {
      "id": "ea98dc9d-b8f3-40f3-9cf2-72657ba3d391",
      "cell_type": "markdown",
      "source": "# This will convert 200 minutes to hours by diving by 60.",
      "metadata": {}
    },
    {
      "id": "1cd849a0-d0fe-46db-aa6f-9223ffc3f6e8",
      "cell_type": "code",
      "source": "# Convert minutes to hours\nhours = 200 / 60\nhours\n",
      "metadata": {
        "trusted": true
      },
      "outputs": [
        {
          "execution_count": 9,
          "output_type": "execute_result",
          "data": {
            "text/plain": "3.3333333333333335"
          },
          "metadata": {}
        }
      ],
      "execution_count": 9
    },
    {
      "id": "f9cb9998-2ff4-4cc7-9058-5a3bc622fc6d",
      "cell_type": "markdown",
      "source": "# Objectives:\n# unordered list\n# List popular languages for Data Science\n# [Python, R, C++ ]\n# Some of the commonly used libraries used by Data Scientists include:\n# [Pandas\n# Matplotlib\n# Scikit]\n",
      "metadata": {}
    },
    {
      "id": "efbd465a-1e7c-4513-8176-b1771f7a4d00",
      "cell_type": "markdown",
      "source": "## Author\n## name",
      "metadata": {}
    }
  ]
}